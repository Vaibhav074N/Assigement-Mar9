{
  "nbformat": 4,
  "nbformat_minor": 0,
  "metadata": {
    "colab": {
      "provenance": [],
      "authorship_tag": "ABX9TyNEykgkK1WHcIRH7fy3DutD",
      "include_colab_link": true
    },
    "kernelspec": {
      "name": "python3",
      "display_name": "Python 3"
    },
    "language_info": {
      "name": "python"
    }
  },
  "cells": [
    {
      "cell_type": "markdown",
      "metadata": {
        "id": "view-in-github",
        "colab_type": "text"
      },
      "source": [
        "<a href=\"https://colab.research.google.com/github/Vaibhav074N/Assigement-Mar9/blob/main/Assigement_Mar9.ipynb\" target=\"_parent\"><img src=\"https://colab.research.google.com/assets/colab-badge.svg\" alt=\"Open In Colab\"/></a>"
      ]
    },
    {
      "cell_type": "markdown",
      "source": [
        "Q1: What are the Probability Mass Function (PMF) and Probability Density Function (PDF)? Explain with\n",
        "an example."
      ],
      "metadata": {
        "id": "XCy0GgBXE2Kw"
      }
    },
    {
      "cell_type": "markdown",
      "source": [
        "Probability Mass Function (PMF) and Probability Density Function (PDF) are two important concepts in probability theory and statistics.\n",
        "\n",
        "Probability Mass Function (PMF) is a function that describes the probability of a discrete random variable taking on a specific value. It gives the probability distribution of a discrete random variable X, and is denoted by P(X = x).\n",
        "\n",
        "For example, let’s consider a simple experiment of tossing a coin. If we assume that the coin is fair, then the probability of getting heads is 0.5 and the probability of getting tails is also 0.5. In this case, the PMF can be defined as:\n",
        "\n",
        "P(X = 1) = 0.5 (when X represents heads)\n",
        "P(X = 0) = 0.5 (when X represents tails)\n",
        "\n",
        "On the other hand, Probability Density Function (PDF) is a function that describes the probability of a continuous random variable taking on a specific value within a given range. It gives the probability distribution of a continuous random variable X, and is denoted by f(X).\n",
        "\n",
        "For example, let’s consider the height of a randomly selected person from a population. Assuming that the height follows a normal distribution, we can use the PDF to calculate the probability of the person having a height within a specific range. The PDF for the normal distribution is given by:\n",
        "\n",
        "f(X) = 1/(σ√(2π)) * e^(-((X-μ)^2)/(2σ^2))\n",
        "\n",
        "Where X is the random variable (height), μ is the mean, σ is the standard deviation, and e is the natural logarithm base.\n",
        "\n",
        "In summary, PMF is used for discrete random variables and PDF is used for continuous random variables."
      ],
      "metadata": {
        "id": "7JQE8I3BFcrX"
      }
    },
    {
      "cell_type": "code",
      "execution_count": null,
      "metadata": {
        "id": "qje1jRvAEwpC"
      },
      "outputs": [],
      "source": []
    },
    {
      "cell_type": "markdown",
      "source": [
        "Q2: What is Cumulative Density Function (CDF)? Explain with an example. Why CDF is used?"
      ],
      "metadata": {
        "id": "INzmcuI9GQuD"
      }
    },
    {
      "cell_type": "markdown",
      "source": [
        "Cumulative Density Function (CDF) is a function that shows the cumulative probability of a random variable taking a value less than or equal to a certain value. In other words, CDF is the cumulative sum of the Probability Density Function (PDF). CDF is denoted by F(x) and is defined as:\n",
        "\n",
        "F(x) = P(X ≤ x)\n",
        "\n",
        "where X is a random variable and x is a specific value.\n",
        "\n",
        "The CDF is commonly used in probability theory and statistics to determine the probability of a random variable being less than or equal to a specific value. The CDF is useful in determining percentiles and quantiles of a distribution.\n",
        "\n",
        "For example, let's say we have a normal distribution with mean 5 and standard deviation 2. We want to find the probability of the random variable being less than or equal to 6. Using the CDF, we can calculate:\n",
        "\n",
        "F(6) = P(X ≤ 6) = 0.8413\n",
        "\n",
        "This means that there is an 84.13% chance that the random variable is less than or equal to 6 in this normal distribution.\n",
        "\n",
        "The CDF is used because it provides a convenient way to calculate probabilities for a given distribution. It allows us to determine the probability of a random variable taking a value less than or equal to a specific value, without having to integrate the PDF. Additionally, it provides a way to compare different distributions and to determine percentiles and quantiles of a distribution."
      ],
      "metadata": {
        "id": "UdsvLP8mGSGg"
      }
    },
    {
      "cell_type": "code",
      "source": [],
      "metadata": {
        "id": "exJCW3CdGRT6"
      },
      "execution_count": null,
      "outputs": []
    },
    {
      "cell_type": "markdown",
      "source": [
        "Q3: What are some examples of situations where the normal distribution might be used as a model? Explain how the parameters of the normal distribution relate to the shape of the distribution."
      ],
      "metadata": {
        "id": "K-mMwsJFIaaz"
      }
    },
    {
      "cell_type": "markdown",
      "source": [
        "The normal distribution is a commonly used model in statistics to represent a wide range of continuous random variables. Some examples of situations where the normal distribution might be used as a model are:\n",
        "\n",
        "1.Heights of people: The distribution of heights of people tends to follow a normal distribution.\n",
        "\n",
        "2.Errors in measurement: The errors in measurement from instruments that have a normal distribution of error are commonly modeled by the normal distribution.\n",
        "\n",
        "3.Test scores: The distribution of test scores for a large population of students tends to follow a normal distribution.\n",
        "\n",
        "The normal distribution is characterized by two parameters: the mean (μ) and the standard deviation (σ). The mean determines the center of the distribution, while the standard deviation controls the spread of the distribution. Specifically, the mean determines where the distribution is centered on the x-axis, while the standard deviation determines how tightly the distribution is clustered around the mean.\n",
        "\n",
        "A normal distribution with a smaller standard deviation will be narrower and taller, while a normal distribution with a larger standard deviation will be wider and flatter. Additionally, the shape of the normal distribution is symmetric around the mean, meaning that the area to the left of the mean is the same as the area to the right of the mean."
      ],
      "metadata": {
        "id": "v8U5fHXzJ4cV"
      }
    },
    {
      "cell_type": "code",
      "source": [],
      "metadata": {
        "id": "q5wSk68-Jvkj"
      },
      "execution_count": null,
      "outputs": []
    },
    {
      "cell_type": "markdown",
      "source": [
        "Q4: Explain the importance of Normal Distribution. Give a few real-life examples of Normal Distribution."
      ],
      "metadata": {
        "id": "MF5k51XFLoqf"
      }
    },
    {
      "cell_type": "markdown",
      "source": [
        "Normal distribution, also known as Gaussian distribution, plays a crucial role in various fields such as statistics, physics, engineering, social sciences, and finance, among others. It is essential because of the following reasons:\n",
        "\n",
        "It is a theoretical model that is used to understand and describe the behavior of real-world phenomena.\n",
        "\n",
        "Many natural phenomena, such as the heights of people, weights of objects, and errors in measurements, follow a normal distribution.\n",
        "\n",
        "It is relatively easy to work with and interpret, which makes it a popular choice in statistical analysis.\n",
        "\n",
        "Some real-life examples of normal distribution include:\n",
        "\n",
        "Heights and weights of people: The distribution of heights and weights of people in a population follow a normal distribution. Most people fall within the middle range of heights and weights, while fewer people are at the extreme ends.\n",
        "\n",
        "\n",
        "Exam scores: In a large population of test takers, the distribution of scores is often approximately normal, with the majority of students falling within the middle range of scores and fewer students scoring extremely high or low.\n",
        "\n",
        "\n",
        "Measurement errors: Errors in measurements often follow a normal distribution. For example, the errors in measuring the weight of an object due to the limitations of the measuring instrument can be modeled using a normal distribution.\n",
        "\n",
        "\n",
        "Stock market returns: The daily returns of the stock market tend to follow a normal distribution, which is used to make predictions and decisions in finance.\n",
        "\n",
        "\n",
        "In a normal distribution, the shape of the curve is determined by two parameters: mean (μ) and standard deviation (σ). The mean is the center of the distribution and determines the peak of the curve. The standard deviation measures the spread of the distribution and determines how much the curve deviates from the mean. A larger standard deviation results in a flatter and wider curve, while a smaller standard deviation results in a taller and narrower curve."
      ],
      "metadata": {
        "id": "CNlip4vSLOUD"
      }
    },
    {
      "cell_type": "code",
      "source": [],
      "metadata": {
        "id": "KgxFNsF5LnlZ"
      },
      "execution_count": null,
      "outputs": []
    },
    {
      "cell_type": "markdown",
      "source": [
        "Q5: What is Bernaulli Distribution? Give an Example. What is the difference between Bernoulli Distribution and Binomial Distribution?"
      ],
      "metadata": {
        "id": "ZjuCoJrlMECE"
      }
    },
    {
      "cell_type": "markdown",
      "source": [
        "Bernoulli Distribution is a probability distribution with two possible outcomes- success or failure, and is used to model a single trial of an experiment with these outcomes. It is a discrete probability distribution that represents the probability of a single success or failure in a single experiment.\n",
        "\n",
        "Example: A coin toss is a classic example of a Bernoulli distribution. Here, the possible outcomes are heads or tails. If the coin is fair, the probability of getting heads is 0.5 and the probability of getting tails is also 0.5.\n",
        "\n",
        "The main difference between Bernoulli and Binomial distributions is that Bernoulli is used for a single trial, while Binomial is used for multiple trials. Binomial distribution is a discrete probability distribution that represents the probability of a specified number of successes in a fixed number of independent trials, each with the same probability of success.\n",
        "\n",
        "Example: Rolling a dice 10 times and finding the probability of getting a 6 on exactly 2 of those rolls is an example of Binomial distribution. Here, the probability of success (getting a 6) is 1/6, and the probability of failure (not getting a 6) is 5/6"
      ],
      "metadata": {
        "id": "LQC1Jy4ZMGsF"
      }
    },
    {
      "cell_type": "code",
      "source": [],
      "metadata": {
        "id": "ZrzzSGqwMFyx"
      },
      "execution_count": null,
      "outputs": []
    },
    {
      "cell_type": "markdown",
      "source": [
        "Q6. Consider a dataset with a mean of 50 and a standard deviation of 10. If we assume that the dataset is normally distributed, what is the probability that a randomly selected observation will be greater than 60? Use the appropriate formula and show your calculations."
      ],
      "metadata": {
        "id": "grjcLwTKMl4q"
      }
    },
    {
      "cell_type": "code",
      "source": [
        "'''\n",
        "given data :\n",
        "\n",
        "mean=50\n",
        "sigma=10\n",
        "x=60\n",
        "\n",
        "To solve this problem, we can use the z-score formula:\n",
        "\n",
        "z = (x - μ) / σ\n",
        "z = (60-50) / 10\n",
        "z = 10 / 10\n",
        "z = 1\n",
        "\n",
        "Using a standard normal distribution table for z=1 we get 0.84134\n",
        "\n",
        "The probability of a z-score greater than or equal to 1 is approximately (1-0.84134)=0.1586.\n",
        "\n",
        "'''"
      ],
      "metadata": {
        "id": "Vm1NBaLZN9zR"
      },
      "execution_count": null,
      "outputs": []
    },
    {
      "cell_type": "markdown",
      "source": [
        "Q7: Explain uniform Distribution with an example."
      ],
      "metadata": {
        "id": "PXcNbQOjMlq3"
      }
    },
    {
      "cell_type": "markdown",
      "source": [
        "Uniform Distribution is a probability distribution in which all possible outcomes or events are equally likely to occur. In other words, the probability of any event is equal to the probability of any other event in the distribution. The uniform distribution is characterized by a constant probability density function (PDF) over a specified range.\n",
        "\n",
        "An example of uniform distribution is the roll of a fair dice, where each of the six possible outcomes has an equal probability of occurring. Another example is the selection of a random number between 1 and 100, where each number has an equal chance of being selected.\n",
        "\n",
        "The PDF of the uniform distribution is given by:\n",
        "\n",
        "f(x) = 1/(b-a), where a ≤ x ≤ b\n",
        "\n",
        "where a and b are the minimum and maximum values of the range, respectively. The mean of the uniform distribution is (a + b)/2 and the variance is (b - a)^2/12.\n",
        "\n",
        "\n",
        "\n",
        "There are two types of uniform distribution:\n",
        "\n",
        "1.Continuous Uniform Distribution:-\n",
        "\n",
        "- The continuous unifrom distribution or rectangular distribution is a family   of symmetric probability distributions.\n",
        "- The distribution describe an experiment where there is an arbitrary outcome that lies between certain bounds. The bounds are defined by the parameters, a and b which are the minimum and maximum values.\n",
        "\n",
        "2.Discrete Uniform Distribution:-\n",
        "\n",
        "- The discrete unifrom distributions is a symmetric probability distribution wherein a finite number of values are equally likely to be observed,\n",
        "- every one of n values has equal probability 1/n\n",
        "- Another way of saying discrete unifrom distribution would be a known finite number of outcome equally likely to happen "
      ],
      "metadata": {
        "id": "ZzrVTUv6P3w4"
      }
    },
    {
      "cell_type": "code",
      "source": [],
      "metadata": {
        "id": "pjgAKGkkPQ6K"
      },
      "execution_count": null,
      "outputs": []
    },
    {
      "cell_type": "markdown",
      "source": [
        "Q8: What is the z score? State the importance of the z score."
      ],
      "metadata": {
        "id": "nIJQyVcnQ651"
      }
    },
    {
      "cell_type": "markdown",
      "source": [
        "The z score, also known as the standard score, is a statistical measure that indicates how many standard deviations an observation or data point is from the mean of the dataset. The z score is calculated as the difference between the observed value and the mean, divided by the standard deviation.\n",
        "\n",
        "The importance of the z score lies in its ability to provide a standardized measure of how far a data point deviates from the mean, regardless of the scale of the data. This allows for meaningful comparisons between data points from different datasets that may have different units or scales"
      ],
      "metadata": {
        "id": "WVGYsW4AQ-8u"
      }
    },
    {
      "cell_type": "code",
      "source": [],
      "metadata": {
        "id": "7376BcihQ99I"
      },
      "execution_count": null,
      "outputs": []
    },
    {
      "cell_type": "markdown",
      "source": [
        "Q9: What is Central Limit Theorem? State the significance of the Central Limit Theorem."
      ],
      "metadata": {
        "id": "RN9WwtAPRT1g"
      }
    },
    {
      "cell_type": "markdown",
      "source": [
        "The Central Limit Theorem (CLT) is a statistical theorem that states that the sample mean of a large number of independent and identically distributed random variables will be normally distributed regardless of the distribution of the individual random variables, as long as the sample size is sufficiently large. In other words, as the sample size increases, the distribution of sample means will approach a normal distribution, even if the original population distribution is not normal.\n",
        "\n",
        "The significance of the CLT is that it provides a mathematical basis for making inferences about a population based on a sample. It is used in hypothesis testing, confidence interval estimation, and other statistical applications. It also allows us to use normal distribution based methods even when we don't know the underlying distribution of the population."
      ],
      "metadata": {
        "id": "NgrvuzUFRYwz"
      }
    },
    {
      "cell_type": "code",
      "source": [],
      "metadata": {
        "id": "oGij7i-JRYAe"
      },
      "execution_count": null,
      "outputs": []
    },
    {
      "cell_type": "markdown",
      "source": [
        "Q10: State the assumptions of the Central Limit Theorem."
      ],
      "metadata": {
        "id": "nsryG0y5R4oB"
      }
    },
    {
      "cell_type": "markdown",
      "source": [
        "The assumptions of the CLT are as follows:\n",
        "\n",
        "1.The sample is a random sample drawn from the population.\n",
        "\n",
        "2.The sample size is sufficiently large (typically, n ≥ 30).\n",
        "\n",
        "3.The population from which the sample is drawn has a finite mean (µ) and a finite variance (σ^2).\n",
        "\n",
        "4.The observations in the sample are independent of each other"
      ],
      "metadata": {
        "id": "pyvcO684R_Fo"
      }
    },
    {
      "cell_type": "code",
      "source": [],
      "metadata": {
        "id": "gp5JeRZ9R-Sl"
      },
      "execution_count": null,
      "outputs": []
    }
  ]
}